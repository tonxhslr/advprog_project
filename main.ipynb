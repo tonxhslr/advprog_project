{
 "cells": [
  {
   "cell_type": "markdown",
   "id": "48abc470",
   "metadata": {},
   "source": [
    "# Group Project - Advanced Programming\n",
    "\n",
    "## Options Calculator\n",
    "\n",
    "Goal of this project is to implement a fully-functioning, interactive Option Calculator, that for a given input combination of an Underlying Asset, a strike price and some more information, will return/display the current option price, as well as all the relevant greeks ($\\delta, \\gamma, \\rho, \\theta$, etc.).\n",
    "\n",
    "Although the Calculator need not be in an interactive environment, it should in theory have all the capabilities of the one, one can find here: https://www.cboe.com/education/tools/options-calculator/\n",
    "\n",
    "The option calculator should work with European, American, Asian, Binary, and Barrier options, where the option-type can be specified as an input.\n",
    "For those types without a closed formula, the Black-Scholes Model should be used to calculate the options price. \n",
    "In Monte-Carlo, the number of simulations, as well as the time step should be parameters of the model. Input, and all other parameters must always be read from file. The program should by default write to the console, but it should be possible to write to a file."
   ]
  },
  {
   "cell_type": "markdown",
   "id": "42e645fd",
   "metadata": {},
   "source": [
    "### 0.0) Inputs\n",
    "\n",
    "| **Input** | **Data Type** | **Values** |\n",
    "|-------------------|-------------------|-------------------|\n",
    "| Option Type       | string            |['call', 'put']    |\n",
    "| Exercise Type     | string            |['american', 'european', 'asian', 'binary', 'barrier']|\n",
    "| Start Date        | date (or int)     | -                 |\n",
    "| Start Time        | time (or int)     | -                 |\n",
    "| Expiration Date   | date (or int)     | -                 |\n",
    "| Expiration Time   | string            | ['AM', 'PM']      |\n",
    "| Option Strike     | float             | -                 |\n",
    "| Stock/Underlying Price| float         | -                 |\n",
    "| Option Volatility | float (in %)      | -                 |\n",
    "| Interest Rate     | float (in %)      | -                 |\n",
    "| Dividends (optional) | string         | ['dividend', 'dividend stream']|\n",
    "| Dividend amount   | float (in $)      | -                 |\n",
    "| Day interval (for dividend stream)| int | -               |\n",
    "| Nr. of simulations (MC) | int         | -                 |\n",
    "| Time-Step (MC)    | float (in days?)  | -                 |"
   ]
  },
  {
   "cell_type": "markdown",
   "id": "49b08539",
   "metadata": {},
   "source": [
    "### 0.1) Outputs\n",
    "\n",
    "| **Output** | **Data Type** |\n",
    "|-------------------|-------------------|\n",
    "| Theoretical Price | float             |\n",
    "| Delta ($\\delta$)  | float             |\n",
    "| Gamma ($\\gamma$)  | float             |\n",
    "| Rho   ($\\rho$)    | float             |\n",
    "| Theta ($\\theta$)  | float             |\n",
    "| Vega  ($\\nu$)     | float             |"
   ]
  },
  {
   "cell_type": "markdown",
   "id": "f1eba4e8",
   "metadata": {},
   "source": [
    "### 0.2) Option Types\n",
    "\n",
    "What is an Option: Right to Buy or Sell an Asset at a certain time for a certain price. A Call-Option grants the owner of the option the right to **buy** the underlying asset, a Put-Option the right to **sell** the underlying asset (at certain time for certain price). \n",
    "\n",
    "Payoff of an Option: At expiration, an option can be either in the money (ITM), meaning that for a **Call-Option**, the price of the underlying is higher than the strike price of the option, so that the owner of the option can exercise the option and make profit: $S_T - K_0$, where $S_T$: Price of the underlying, $K_0$: Strike Price and for a **Put-Option**, the price of the underlying is lower than the strike price of the option, so that the owner of the option can exercise the option and make profit: $K_0 - S_T$.\n",
    "\n",
    "There exist different types of options. They differ in regard to the exercising rights, the payoff, as well as other dynamics. \n",
    "|**Option Type** | **Characteristics** |\n",
    "|----------------|---------------------|\n",
    "| European       | Can only be exercised at Maturity |\n",
    "| American       | Can be exercised at any point before Maturity |\n",
    "| Asian          | Payoff is calculated based on the average price of the underlying over a certain time period |\n",
    "| Binary         | Payoff is dependent on a \"Yes-No\" proposition. Pay either fixed amount or nothing |\n",
    "| Barrier        | Payoff/Existence is dependent on the Underlying reaching a certain price level |\n",
    "\n",
    "*Note on Asian Options*: Asian options still have a fixed Strike Price $K_0$, just their payoff is not dependent on the Spot Price of the Asset when exercising, but the average price over a specified period, i.e. $\\bar{S} - K_0$ for a Call-Option.\n",
    "\n",
    "*Note on Barrier Options*: Barrier Options can be either *Knock-In's* or *Knock-Out's*, both of which also have regular Strike Prices and Maturities (like a European Option), only with the extra feature of the *Barrier*. A Knock-Out Option starts out and behaves like a regular European Option, as long as the price of the Underlying doesn't fall under a certain level. If it does fall under that level before expiration, the option becomes worthless immediately. Therefore Barrier Options are usually cheaper than regular options, because they have the possibility of becoming worthless before expiration. A Knock-In Option is \"inactive\"/worthless unless a certain Barrier price is reached. Once that price is reached, the action becomes and behaves like a normal European Option."
   ]
  },
  {
   "cell_type": "markdown",
   "id": "eaadc6b2",
   "metadata": {},
   "source": [
    "### 0.3) Option Pricing\n",
    "\n",
    "Like most Assets in Finance, an option's price depend on the expected payoff of the option assuming efficient markets and No-Arbitrage. This expected payoff dependes on many factors, like the Option Strike Price, the implied volatility of the underlying (higher vol. makes it more likely, the option can \"jump\" ITM), the time until expiration (the more time, the higher the chance the option can move ITM), and many more. \n",
    "\n",
    "For basic types, like European Options, there exist closed form solutions (Black-Scholes Model), but for most options, due to their complexity, the prices are determined numerically, using Monte-Carlo Simulation or Binomial Trees.\n",
    "\n",
    "Nevertheless, for complex option simulations, the assumptions underlying the simulation are still based on Black-Scholes pricing and Geometric Brownian Motion. \n",
    "\n",
    "For the purpose of this project, we will focus on using Monte-Carlo to determine the option's price. \n",
    "\n",
    "Generally, the process works the following: \n",
    "- Given M: number of simulations, N: number of timesteps, simulate M different price paths, the underlying asset can have until maturity. Discretize the timeframe using N. The assumption underlying this random simulation is Geometric Brownian Motion (GBM). This means that each time-step, the asset has a tiny (random) change in price, up or down. These increments are **independent** and **normally distributed**. Over time, these increments accumulate into a **continuos but unpredictable** path. \n",
    "- Each Timestep, calculate: $S_{i + \\Delta t} = S_i \\cdot \\exp[(r - q - \\frac{1}{2} \\sigma^2) \\Delta t + \\sigma \\sqrt{\\Delta t} Z]$, where $Z \\sim (0,1)$ is a standard normal random variable, and q is the Dividend yield. \n",
    "- For each simulated path, $m$, calculate the option's payoff at expiration: $p_m = \\max(\\pm S_T - K_0, 0)$\n",
    "- For a European Option, the option price is the Present Value (PV) of the average of all payoffs $p_m$: $V_0 = e^{-rT} \\frac{1}{M} \\sum_{m=1}^{M} p_m$\n",
    "\n",
    "- For all other options, this gets more complex, because there is the possibility of *Early Exercise*, i.e. exercising the option before expiration, if we already are ITM. This means, that at every timestep $n$ where the option is ITM, we have to account for the possibility of early exercise. For this, we have to compare the payoff if executing the option immediately (Immediate Exercise Value, IEV) with the expected payoff of holding onto it for longer (Continuation Value), where the CV is calculated as the expected discounted future cashflow. If IEV > CV, the option gets exercised, the payoff $p_m$ of the path is set as: $S_T - K_0$, and all future cashflows of this path are set to 0. Otherwise, the option is held on for longer, and the same process repeats every timestep, until it is either exercised or expired."
   ]
  },
  {
   "cell_type": "markdown",
   "id": "93acbe61",
   "metadata": {},
   "source": [
    "### 0.4) Greeks\n",
    "\n",
    "Generally, the Greeks represent the rates of change in the option price with respect to an input variable in the pricing model:\n",
    "| **Greek** | **What it measures** |\n",
    "|-----------|----------------------|\n",
    "|Delta ($\\delta$) | sensitivity to the price of the underlying |\n",
    "|Gamma ($\\gamma$) | curvature (rate of change of delta) |\n",
    "|Rho ($\\rho$) | sensitivity to interest rates | \n",
    "| Theta ($\\theta$)| time decay |\n",
    "| Vega ($\\nu$) | sensitivity to changes in (implied) volatility |\n"
   ]
  },
  {
   "cell_type": "markdown",
   "id": "9991d3a0",
   "metadata": {},
   "source": [
    "### *0.5) Notes*\n",
    "\n",
    "- For Black-Scholes, time until expiration is given in years (i.e. days/365). Opinions differ whether to use Calendar Days (i.e. days/365), or Trading Days (i.e. days/252), since options can only be traded on the latter. A common approach is to annualize each metric based on what makes the most sense logically. I.e. interest rates, which accumulate each calendar day, take the 365-day year, while volatility takes the 252-day year, since assets cannot move (i.e. be volatile) on non-trading days. A common approach is: $T = \\frac{days}{365}, \\quad \\sigma_{d} = \\frac{\\sigma_a}{252}, \\quad r_d = \\frac{r_a}{365}$\n",
    "- TBD"
   ]
  },
  {
   "cell_type": "markdown",
   "id": "78108698",
   "metadata": {},
   "source": [
    "### 1) Library Imports"
   ]
  },
  {
   "cell_type": "code",
   "execution_count": 9,
   "id": "e1b4af7f",
   "metadata": {},
   "outputs": [],
   "source": [
    "import numpy as np\n",
    "import pandas as pd\n",
    "import math\n",
    "import matplotlib.pyplot as plt\n",
    "from pathlib import Path\n",
    "import os \n",
    "from scipy.stats import norm\n",
    "import string"
   ]
  },
  {
   "cell_type": "markdown",
   "id": "9a438db0",
   "metadata": {},
   "source": [
    "### 2) Black-Scholes"
   ]
  },
  {
   "cell_type": "code",
   "execution_count": 10,
   "id": "109998de",
   "metadata": {},
   "outputs": [],
   "source": [
    "def black_scholes(S_0, K, T, r, sigma, option_type = 'call'):\n",
    "\n",
    "    option_type = option_type.lower()\n",
    "\n",
    "    # Define Helper Terms\n",
    "    d1 = (np.log(S_0 / K) + (r + 0.5 * sigma**2) * T) / (sigma * np.sqrt(T))\n",
    "    d2 = d1 - (sigma * np.sqrt(T))\n",
    "\n",
    "    if option_type == 'call':\n",
    "        p = S_0 * norm.cdf(d1) - K * np.exp(-r * T) * norm.cdf(d2)\n",
    "\n",
    "    elif option_type == 'put':\n",
    "        p = K * np.exp(-r * T) * norm.cdf(-d2) - S_0 * norm.cdf(-d1)\n",
    "\n",
    "    else: \n",
    "        raise ValueError('Option type must be \"Call\" or \"Put\"')\n",
    "\n",
    "    return p"
   ]
  },
  {
   "cell_type": "markdown",
   "id": "f2d49f2c",
   "metadata": {},
   "source": [
    "### 3) Monte-Carlo (using GBM)"
   ]
  },
  {
   "cell_type": "code",
   "execution_count": 29,
   "id": "a3d9f111",
   "metadata": {},
   "outputs": [],
   "source": [
    "def timestep(start_price, r, q, sigma, delta_t):\n",
    "    '''\n",
    "    Simulates one timestep in the Monte-Carlo simulation. Takes a given start_price at the beginning of the timestep \n",
    "    and transforms it into a random price (acc. to GBM) after the timestep.\n",
    "    '''\n",
    "    return start_price * np.exp((r-q-0.5*sigma**2)*delta_t + sigma * np.sqrt(delta_t)*np.random.normal(0,1))"
   ]
  },
  {
   "cell_type": "code",
   "execution_count": 30,
   "id": "1fabbd93",
   "metadata": {},
   "outputs": [],
   "source": [
    "def simulation_run(timesteps, start_price, expiration, r, q, sigma):\n",
    "    '''\n",
    "    One full pricing simulation for n timesteps. Takes a given start_price as well as the number of timesteps, and simulates\n",
    "    an asset's random price development (acc. to GBM) over the n timesteps. Returns an array of the format: [[timestep, price]]\n",
    "    '''\n",
    "    prices = [[0, start_price]]\n",
    "    delta_t = expiration/timesteps\n",
    "    S_i = start_price\n",
    "    for i in range(timesteps):\n",
    "        S_i = timestep(S_i, r, q, sigma, delta_t)\n",
    "        prices.append([i+1, S_i])\n",
    "    return prices"
   ]
  },
  {
   "cell_type": "code",
   "execution_count": 31,
   "id": "ececf755",
   "metadata": {},
   "outputs": [],
   "source": [
    "def MonteCarlo(simulations, timesteps, start_price, expiration, r, q, sigma):\n",
    "    '''\n",
    "    Monte-Carlo simulation for an Asset's price development, given a start_price, the assets volatility, current interest rate, dividend yield, expiration\n",
    "    the number of timesteps per simulation and the total number of simulations. Simulates M different price developments with n timesteps each. \n",
    "    Each price development follows a Stochastic Wiener process (i.e. Geometric Brownian Motion).\n",
    "    '''\n",
    "    list_of_prices = []\n",
    "    for _ in range(simulations):\n",
    "        list_of_prices.append(simulation_run(timesteps, start_price, expiration, r, q, sigma))\n",
    "    return list_of_prices"
   ]
  },
  {
   "cell_type": "code",
   "execution_count": 32,
   "id": "b4383ccd",
   "metadata": {},
   "outputs": [
    {
     "data": {
      "text/plain": [
       "[[[0, 100],\n",
       "  [1, 101.16534664832497],\n",
       "  [2, 102.05546363577814],\n",
       "  [3, 101.1628284909272],\n",
       "  [4, 102.1578359952642],\n",
       "  [5, 102.82564532867474],\n",
       "  [6, 102.61560658945423],\n",
       "  [7, 104.5352782310913],\n",
       "  [8, 108.30274441874403],\n",
       "  [9, 108.8344392007407],\n",
       "  [10, 109.80762316490592]],\n",
       " [[0, 100],\n",
       "  [1, 103.00112120667156],\n",
       "  [2, 105.34434440790855],\n",
       "  [3, 107.40169614504273],\n",
       "  [4, 105.10544863298956],\n",
       "  [5, 105.53981650078451],\n",
       "  [6, 101.68254044450072],\n",
       "  [7, 98.91164538395184],\n",
       "  [8, 96.75553588700058],\n",
       "  [9, 97.12945680113704],\n",
       "  [10, 92.44579135427675]],\n",
       " [[0, 100],\n",
       "  [1, 104.11126988294362],\n",
       "  [2, 101.00382664141583],\n",
       "  [3, 104.0767119343305],\n",
       "  [4, 102.13162288429807],\n",
       "  [5, 101.95250379236838],\n",
       "  [6, 101.47268981029997],\n",
       "  [7, 101.39476606227853],\n",
       "  [8, 99.69027617460097],\n",
       "  [9, 100.65697421153665],\n",
       "  [10, 100.90113461056328]],\n",
       " [[0, 100],\n",
       "  [1, 103.95118346555134],\n",
       "  [2, 101.50955655814883],\n",
       "  [3, 101.17785494313718],\n",
       "  [4, 102.99886588977706],\n",
       "  [5, 107.60049592693419],\n",
       "  [6, 108.06806641934564],\n",
       "  [7, 107.57303378902478],\n",
       "  [8, 103.69242691572231],\n",
       "  [9, 105.27172205363574],\n",
       "  [10, 106.48981479640038]],\n",
       " [[0, 100],\n",
       "  [1, 100.88780440425131],\n",
       "  [2, 97.12743654664492],\n",
       "  [3, 97.22759894370034],\n",
       "  [4, 97.81869141032372],\n",
       "  [5, 97.01556282189132],\n",
       "  [6, 96.67790917365197],\n",
       "  [7, 96.02062920208316],\n",
       "  [8, 97.24368030351265],\n",
       "  [9, 95.15506693850313],\n",
       "  [10, 95.40480071123368]],\n",
       " [[0, 100],\n",
       "  [1, 100.74953280092708],\n",
       "  [2, 101.27352591138518],\n",
       "  [3, 102.32085187034173],\n",
       "  [4, 100.40097820969676],\n",
       "  [5, 93.20541314052788],\n",
       "  [6, 93.57686374786002],\n",
       "  [7, 95.97217611190464],\n",
       "  [8, 94.62299672190328],\n",
       "  [9, 94.43504834916739],\n",
       "  [10, 96.08653592996615]],\n",
       " [[0, 100],\n",
       "  [1, 102.14278634011956],\n",
       "  [2, 102.52905898408],\n",
       "  [3, 103.15701719330698],\n",
       "  [4, 101.87793130651868],\n",
       "  [5, 99.83265592893635],\n",
       "  [6, 101.36754816226802],\n",
       "  [7, 99.14942982202102],\n",
       "  [8, 102.83708640063738],\n",
       "  [9, 100.96820155268091],\n",
       "  [10, 98.72048820889796]],\n",
       " [[0, 100],\n",
       "  [1, 100.86762875897706],\n",
       "  [2, 96.62569806247157],\n",
       "  [3, 98.30004488104028],\n",
       "  [4, 98.33547019866546],\n",
       "  [5, 99.06079253311043],\n",
       "  [6, 104.58046019216683],\n",
       "  [7, 100.7952660017429],\n",
       "  [8, 104.44163559475557],\n",
       "  [9, 102.11793005685576],\n",
       "  [10, 105.97568194323895]],\n",
       " [[0, 100],\n",
       "  [1, 100.9346527860471],\n",
       "  [2, 98.69465660541559],\n",
       "  [3, 101.54192453604044],\n",
       "  [4, 102.01365271475176],\n",
       "  [5, 103.71597074634771],\n",
       "  [6, 103.99824445972583],\n",
       "  [7, 102.13014779791649],\n",
       "  [8, 100.00398225460393],\n",
       "  [9, 101.49946424562913],\n",
       "  [10, 97.57324424738346]],\n",
       " [[0, 100],\n",
       "  [1, 98.18623559508721],\n",
       "  [2, 103.13387112054215],\n",
       "  [3, 102.29423968136392],\n",
       "  [4, 106.68201655605506],\n",
       "  [5, 110.13112184808367],\n",
       "  [6, 106.10839951931176],\n",
       "  [7, 101.49019569681317],\n",
       "  [8, 102.08889772307315],\n",
       "  [9, 99.40508554650052],\n",
       "  [10, 103.73133695383824]]]"
      ]
     },
     "execution_count": 32,
     "metadata": {},
     "output_type": "execute_result"
    }
   ],
   "source": [
    "MonteCarlo(10, 10, 100, 1/12, 0.04, 0.01, 0.30)"
   ]
  }
 ],
 "metadata": {
  "kernelspec": {
   "display_name": "base",
   "language": "python",
   "name": "python3"
  },
  "language_info": {
   "codemirror_mode": {
    "name": "ipython",
    "version": 3
   },
   "file_extension": ".py",
   "mimetype": "text/x-python",
   "name": "python",
   "nbconvert_exporter": "python",
   "pygments_lexer": "ipython3",
   "version": "3.11.4"
  }
 },
 "nbformat": 4,
 "nbformat_minor": 5
}
